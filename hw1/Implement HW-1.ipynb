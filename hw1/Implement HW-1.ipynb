{
 "cells": [
  {
   "cell_type": "code",
   "execution_count": 1,
   "metadata": {},
   "outputs": [],
   "source": [
    "import load_policy\n",
    "import gym\n",
    "import torch\n",
    "import argparse\n",
    "import numpy as np\n",
    "import pickle\n",
    "from torch.autograd import Variable\n",
    "import os"
   ]
  },
  {
   "cell_type": "code",
   "execution_count": 2,
   "metadata": {},
   "outputs": [],
   "source": [
    "class DotDict(dict):\n",
    "    def __getattr_(self, name):\n",
    "        return self[name]\n",
    "args = DotDict({\n",
    "    'batch_size' : 128,\n",
    "    'epochs' : 50,\n",
    "    'envname' : 'Hopper-v1',\n",
    "    'expert_policy_file' : 'experts/Hopper-v1.pkl',\n",
    "    'num_rollouts' : 5,\n",
    "    'render' : False,\n",
    "    'max_timesteps' : 300,\n",
    "    'verbose' : 1,\n",
    "})\n"
   ]
  },
  {
   "cell_type": "code",
   "execution_count": null,
   "metadata": {},
   "outputs": [],
   "source": []
  }
 ],
 "metadata": {
  "kernelspec": {
   "display_name": "Python 2",
   "language": "python",
   "name": "python2"
  },
  "language_info": {
   "codemirror_mode": {
    "name": "ipython",
    "version": 2
   },
   "file_extension": ".py",
   "mimetype": "text/x-python",
   "name": "python",
   "nbconvert_exporter": "python",
   "pygments_lexer": "ipython2",
   "version": "2.7.12"
  }
 },
 "nbformat": 4,
 "nbformat_minor": 2
}
